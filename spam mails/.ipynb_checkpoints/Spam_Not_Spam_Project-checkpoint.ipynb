{
 "cells": [
  {
   "cell_type": "code",
   "execution_count": null,
   "metadata": {},
   "outputs": [],
   "source": []
  },
  {
   "cell_type": "code",
   "execution_count": 1,
   "metadata": {},
   "outputs": [
    {
     "name": "stdout",
     "output_type": "stream",
     "text": [
      "<class '_io.BufferedWriter'>\n"
     ]
    }
   ],
   "source": [
    "fp = open(\"somefile\",'wb')\n",
    "print(type(fp))"
   ]
  },
  {
   "cell_type": "code",
   "execution_count": 2,
   "metadata": {},
   "outputs": [],
   "source": [
    "import os\n",
    "import io\n",
    "import numpy\n",
    "from pandas import DataFrame\n",
    "from sklearn.feature_extraction.text import CountVectorizer\n",
    "from sklearn.naive_bayes import MultinomialNB"
   ]
  },
  {
   "cell_type": "code",
   "execution_count": 6,
   "metadata": {},
   "outputs": [
    {
     "name": "stderr",
     "output_type": "stream",
     "text": [
      "C:\\Users\\HP\\Anaconda3\\lib\\site-packages\\pandas\\core\\frame.py:6201: FutureWarning: Sorting because non-concatenation axis is not aligned. A future version\n",
      "of pandas will change to not sort by default.\n",
      "\n",
      "To accept the future behavior, pass 'sort=True'.\n",
      "\n",
      "To retain the current behavior and silence the warning, pass sort=False\n",
      "\n",
      "  sort=sort)\n"
     ]
    }
   ],
   "source": [
    "\n",
    "def readFiles(path):\n",
    "    for root, dirnames, filenames in os.walk(path):\n",
    "        for filename in filenames:\n",
    "            path = os.path.join(root, filename)\n",
    "            inBody = False\n",
    "            lines = []\n",
    "            f = io.open(path, 'r', encoding='latin1')\n",
    "            for line in f:\n",
    "                if inBody:\n",
    "                    lines.append(line)\n",
    "                elif line == '\\n':\n",
    "                    inBody = True\n",
    "            f.close()\n",
    "            message = '\\n'.join(lines)\n",
    "            yield filename, message\n",
    "\n",
    "\n",
    "def dataFrameFromDirectory(path, classification):\n",
    "    rows = []\n",
    "    index = []\n",
    "    for filename, message in readFiles(path):\n",
    "        rows.append({'message': message, 'class': classification})\n",
    "        index.append(filename)\n",
    "\n",
    "    return DataFrame(rows, index=index)\n",
    "\n",
    "data = DataFrame({'message': [], 'class': []})\n",
    "\n",
    "data = data.append(dataFrameFromDirectory(os.path.join('emails/spam'), 'spam'))\n",
    "data = data.append(dataFrameFromDirectory(os.path.join('emails/ham'), 'ham'))\n",
    "\n"
   ]
  },
  {
   "cell_type": "code",
   "execution_count": 7,
   "metadata": {},
   "outputs": [
    {
     "data": {
      "text/html": [
       "<div>\n",
       "<style scoped>\n",
       "    .dataframe tbody tr th:only-of-type {\n",
       "        vertical-align: middle;\n",
       "    }\n",
       "\n",
       "    .dataframe tbody tr th {\n",
       "        vertical-align: top;\n",
       "    }\n",
       "\n",
       "    .dataframe thead th {\n",
       "        text-align: right;\n",
       "    }\n",
       "</style>\n",
       "<table border=\"1\" class=\"dataframe\">\n",
       "  <thead>\n",
       "    <tr style=\"text-align: right;\">\n",
       "      <th></th>\n",
       "      <th>class</th>\n",
       "      <th>message</th>\n",
       "    </tr>\n",
       "  </thead>\n",
       "  <tbody>\n",
       "    <tr>\n",
       "      <th>00001.7848dde101aa985090474a91ec93fcf0</th>\n",
       "      <td>spam</td>\n",
       "      <td>&lt;!DOCTYPE HTML PUBLIC \"-//W3C//DTD HTML 4.0 Tr...</td>\n",
       "    </tr>\n",
       "    <tr>\n",
       "      <th>00002.d94f1b97e48ed3b553b3508d116e6a09</th>\n",
       "      <td>spam</td>\n",
       "      <td>1) Fight The Risk of Cancer!\\n\\nhttp://www.adc...</td>\n",
       "    </tr>\n",
       "    <tr>\n",
       "      <th>00003.2ee33bc6eacdb11f38d052c44819ba6c</th>\n",
       "      <td>spam</td>\n",
       "      <td>1) Fight The Risk of Cancer!\\n\\nhttp://www.adc...</td>\n",
       "    </tr>\n",
       "    <tr>\n",
       "      <th>00004.eac8de8d759b7e74154f142194282724</th>\n",
       "      <td>spam</td>\n",
       "      <td>##############################################...</td>\n",
       "    </tr>\n",
       "    <tr>\n",
       "      <th>00005.57696a39d7d84318ce497886896bf90d</th>\n",
       "      <td>spam</td>\n",
       "      <td>I thought you might like these:\\n\\n1) Slim Dow...</td>\n",
       "    </tr>\n",
       "  </tbody>\n",
       "</table>\n",
       "</div>"
      ],
      "text/plain": [
       "                                       class  \\\n",
       "00001.7848dde101aa985090474a91ec93fcf0  spam   \n",
       "00002.d94f1b97e48ed3b553b3508d116e6a09  spam   \n",
       "00003.2ee33bc6eacdb11f38d052c44819ba6c  spam   \n",
       "00004.eac8de8d759b7e74154f142194282724  spam   \n",
       "00005.57696a39d7d84318ce497886896bf90d  spam   \n",
       "\n",
       "                                                                                  message  \n",
       "00001.7848dde101aa985090474a91ec93fcf0  <!DOCTYPE HTML PUBLIC \"-//W3C//DTD HTML 4.0 Tr...  \n",
       "00002.d94f1b97e48ed3b553b3508d116e6a09  1) Fight The Risk of Cancer!\\n\\nhttp://www.adc...  \n",
       "00003.2ee33bc6eacdb11f38d052c44819ba6c  1) Fight The Risk of Cancer!\\n\\nhttp://www.adc...  \n",
       "00004.eac8de8d759b7e74154f142194282724  ##############################################...  \n",
       "00005.57696a39d7d84318ce497886896bf90d  I thought you might like these:\\n\\n1) Slim Dow...  "
      ]
     },
     "execution_count": 7,
     "metadata": {},
     "output_type": "execute_result"
    }
   ],
   "source": [
    "data.head()"
   ]
  },
  {
   "cell_type": "code",
   "execution_count": 8,
   "metadata": {},
   "outputs": [
    {
     "data": {
      "text/html": [
       "<div>\n",
       "<style scoped>\n",
       "    .dataframe tbody tr th:only-of-type {\n",
       "        vertical-align: middle;\n",
       "    }\n",
       "\n",
       "    .dataframe tbody tr th {\n",
       "        vertical-align: top;\n",
       "    }\n",
       "\n",
       "    .dataframe thead th {\n",
       "        text-align: right;\n",
       "    }\n",
       "</style>\n",
       "<table border=\"1\" class=\"dataframe\">\n",
       "  <thead>\n",
       "    <tr style=\"text-align: right;\">\n",
       "      <th></th>\n",
       "      <th>class</th>\n",
       "      <th>message</th>\n",
       "    </tr>\n",
       "  </thead>\n",
       "  <tbody>\n",
       "    <tr>\n",
       "      <th>02496.aae0c81581895acfe65323f344340856</th>\n",
       "      <td>ham</td>\n",
       "      <td>Man killed 'trying to surf' on Tube train \\n\\n...</td>\n",
       "    </tr>\n",
       "    <tr>\n",
       "      <th>02497.60497db0a06c2132ec2374b2898084d3</th>\n",
       "      <td>ham</td>\n",
       "      <td>Hi Gianni,\\n\\n\\n\\nA very good resource for thi...</td>\n",
       "    </tr>\n",
       "    <tr>\n",
       "      <th>02498.09835f512f156da210efb99fcc523e21</th>\n",
       "      <td>ham</td>\n",
       "      <td>Gianni Ponzi wrote:\\n\\n&gt; I have a prob when tr...</td>\n",
       "    </tr>\n",
       "    <tr>\n",
       "      <th>02499.b4af165650f138b10f9941f6cc5bce3c</th>\n",
       "      <td>ham</td>\n",
       "      <td>Neale Pickett &lt;neale@woozle.org&gt; writes:\\n\\n\\n...</td>\n",
       "    </tr>\n",
       "    <tr>\n",
       "      <th>02500.05b3496ce7bca306bed0805425ec8621</th>\n",
       "      <td>ham</td>\n",
       "      <td>\\n\\nHi,\\n\\n\\n\\nI think you need to give us a l...</td>\n",
       "    </tr>\n",
       "  </tbody>\n",
       "</table>\n",
       "</div>"
      ],
      "text/plain": [
       "                                       class  \\\n",
       "02496.aae0c81581895acfe65323f344340856   ham   \n",
       "02497.60497db0a06c2132ec2374b2898084d3   ham   \n",
       "02498.09835f512f156da210efb99fcc523e21   ham   \n",
       "02499.b4af165650f138b10f9941f6cc5bce3c   ham   \n",
       "02500.05b3496ce7bca306bed0805425ec8621   ham   \n",
       "\n",
       "                                                                                  message  \n",
       "02496.aae0c81581895acfe65323f344340856  Man killed 'trying to surf' on Tube train \\n\\n...  \n",
       "02497.60497db0a06c2132ec2374b2898084d3  Hi Gianni,\\n\\n\\n\\nA very good resource for thi...  \n",
       "02498.09835f512f156da210efb99fcc523e21  Gianni Ponzi wrote:\\n\\n> I have a prob when tr...  \n",
       "02499.b4af165650f138b10f9941f6cc5bce3c  Neale Pickett <neale@woozle.org> writes:\\n\\n\\n...  \n",
       "02500.05b3496ce7bca306bed0805425ec8621  \\n\\nHi,\\n\\n\\n\\nI think you need to give us a l...  "
      ]
     },
     "execution_count": 8,
     "metadata": {},
     "output_type": "execute_result"
    }
   ],
   "source": [
    "data.tail()"
   ]
  },
  {
   "cell_type": "code",
   "execution_count": 9,
   "metadata": {},
   "outputs": [
    {
     "data": {
      "text/plain": [
       "00341.99b463b92346291f5848137f4a253966    234358\n",
       "00307.7ed50c6d80c6e37c8cc1b132f4a19e4d    186599\n",
       "00481.5c95b526e965fa325044123c4ce29c1f    128028\n",
       "00677.b957e34b4dd0d9263b56bf71b1168d8a     89733\n",
       "00670.be029e37187b8615a231865e3663dcf9     87384\n",
       "Name: message, dtype: int64"
      ]
     },
     "execution_count": 9,
     "metadata": {},
     "output_type": "execute_result"
    }
   ],
   "source": [
    "data['message'].apply(lambda word:len(word)).sort_values(ascending=False)[:5]"
   ]
  },
  {
   "cell_type": "code",
   "execution_count": 10,
   "metadata": {},
   "outputs": [
    {
     "data": {
      "text/plain": [
       "00677.b957e34b4dd0d9263b56bf71b1168d8a    89733\n",
       "00670.be029e37187b8615a231865e3663dcf9    87384\n",
       "00166.8feace9f17d092d9532e62c35c37ce95    49994\n",
       "00570.d98ca90ac201b5d881f2397c95838eb2    41479\n",
       "00942.727cb1619115cdee240fa418da19dd1f    39147\n",
       "Name: message, dtype: int64"
      ]
     },
     "execution_count": 10,
     "metadata": {},
     "output_type": "execute_result"
    }
   ],
   "source": [
    "data[data['class']=='ham']['message'].apply(lambda word:len(word)).sort_values(ascending=False)[:5]"
   ]
  },
  {
   "cell_type": "code",
   "execution_count": 19,
   "metadata": {},
   "outputs": [
    {
     "name": "stdout",
     "output_type": "stream",
     "text": [
      "['Hello World how how  are you this is is good', \"hi world this is good let's go go go go this this this \", \"let's have fun fun fun have fun\"]\n",
      "  (0, 3)\t1\n",
      "  (0, 8)\t2\n",
      "  (0, 10)\t1\n",
      "  (0, 12)\t1\n",
      "  (0, 0)\t1\n",
      "  (0, 7)\t2\n",
      "  (0, 11)\t1\n",
      "  (0, 5)\t1\n",
      "  (1, 2)\t4\n",
      "  (1, 9)\t1\n",
      "  (1, 6)\t1\n",
      "  (1, 3)\t1\n",
      "  (1, 8)\t1\n",
      "  (1, 10)\t4\n",
      "  (1, 11)\t1\n",
      "  (2, 1)\t4\n",
      "  (2, 4)\t2\n",
      "  (2, 9)\t1\n"
     ]
    }
   ],
   "source": [
    "data = [\"Hello World how how  are you this is is good\",\n",
    "        \"hi world this is good let's go go go go this this this \",\n",
    "        \"let's have fun fun fun have fun\" ]\n",
    "\n",
    "x = vectorizer.fit_transform(data)\n",
    "print(data)\n",
    "print(x)"
   ]
  },
  {
   "cell_type": "code",
   "execution_count": 20,
   "metadata": {},
   "outputs": [
    {
     "data": {
      "text/plain": [
       "{'hello': 5,\n",
       " 'world': 11,\n",
       " 'how': 7,\n",
       " 'are': 0,\n",
       " 'you': 12,\n",
       " 'this': 10,\n",
       " 'is': 8,\n",
       " 'good': 3,\n",
       " 'hi': 6,\n",
       " 'let': 9,\n",
       " 'go': 2,\n",
       " 'have': 4,\n",
       " 'fun': 1}"
      ]
     },
     "execution_count": 20,
     "metadata": {},
     "output_type": "execute_result"
    }
   ],
   "source": [
    "vectorizer.vocabulary_"
   ]
  },
  {
   "cell_type": "code",
   "execution_count": null,
   "metadata": {},
   "outputs": [],
   "source": []
  },
  {
   "cell_type": "code",
   "execution_count": null,
   "metadata": {},
   "outputs": [],
   "source": []
  },
  {
   "cell_type": "code",
   "execution_count": 67,
   "metadata": {},
   "outputs": [],
   "source": [
    "v = CountVectorizer()\n",
    "d = v.fit_transform(['hello world how are you,hello how is how this how',\n",
    "                     'how i am how fine you say','hello this is good'])\n"
   ]
  },
  {
   "cell_type": "code",
   "execution_count": 70,
   "metadata": {},
   "outputs": [
    {
     "name": "stdout",
     "output_type": "stream",
     "text": [
      "{'hello': 4, 'world': 9, 'how': 5, 'are': 1, 'you': 10, 'is': 6, 'this': 8, 'am': 0, 'fine': 2, 'say': 7, 'good': 3}\n"
     ]
    }
   ],
   "source": [
    "print(v.vocabulary_)"
   ]
  },
  {
   "cell_type": "code",
   "execution_count": 71,
   "metadata": {},
   "outputs": [
    {
     "name": "stdout",
     "output_type": "stream",
     "text": [
      "  (0, 8)\t1\n",
      "  (0, 6)\t1\n",
      "  (0, 10)\t1\n",
      "  (0, 1)\t1\n",
      "  (0, 5)\t4\n",
      "  (0, 9)\t1\n",
      "  (0, 4)\t2\n",
      "  (1, 7)\t1\n",
      "  (1, 2)\t1\n",
      "  (1, 0)\t1\n",
      "  (1, 10)\t1\n",
      "  (1, 5)\t2\n",
      "  (2, 3)\t1\n",
      "  (2, 8)\t1\n",
      "  (2, 6)\t1\n",
      "  (2, 4)\t1\n"
     ]
    }
   ],
   "source": [
    "print(d)"
   ]
  },
  {
   "cell_type": "code",
   "execution_count": null,
   "metadata": {},
   "outputs": [],
   "source": []
  },
  {
   "cell_type": "code",
   "execution_count": 22,
   "metadata": {},
   "outputs": [
    {
     "name": "stderr",
     "output_type": "stream",
     "text": [
      "C:\\Anaconda3\\lib\\site-packages\\pandas\\core\\frame.py:6692: FutureWarning: Sorting because non-concatenation axis is not aligned. A future version\n",
      "of pandas will change to not sort by default.\n",
      "\n",
      "To accept the future behavior, pass 'sort=False'.\n",
      "\n",
      "To retain the current behavior and silence the warning, pass 'sort=True'.\n",
      "\n",
      "  sort=sort)\n"
     ]
    },
    {
     "data": {
      "text/plain": [
       "MultinomialNB(alpha=1.0, class_prior=None, fit_prior=True)"
      ]
     },
     "execution_count": 22,
     "metadata": {},
     "output_type": "execute_result"
    }
   ],
   "source": [
    "from sklearn.feature_extraction.text import CountVectorizer\n",
    "from sklearn.naive_bayes import MultinomialNB\n",
    "\n",
    "\n",
    "data = DataFrame({'message': [], 'class': []})\n",
    "\n",
    "data = data.append(dataFrameFromDirectory(os.path.join('emails/spam'), 'spam'))\n",
    "data = data.append(dataFrameFromDirectory(os.path.join('emails/ham'), 'ham'))\n",
    "\n",
    "vectorizer = CountVectorizer()\n",
    "counts = vectorizer.fit_transform(data['message'].values)\n",
    "\n",
    "classifier = MultinomialNB()\n",
    "targets = data['class']\n",
    "classifier.fit(counts, targets)"
   ]
  },
  {
   "cell_type": "code",
   "execution_count": null,
   "metadata": {},
   "outputs": [],
   "source": []
  },
  {
   "cell_type": "code",
   "execution_count": 23,
   "metadata": {},
   "outputs": [
    {
     "data": {
      "text/plain": [
       "array(['spam', 'ham'], dtype='<U4')"
      ]
     },
     "execution_count": 23,
     "metadata": {},
     "output_type": "execute_result"
    }
   ],
   "source": [
    "examples = ['Free Viagra now!!!', \"Hi Bob, how about a game of golf tomorrow?\"]\n",
    "example_counts = vectorizer.transform(examples)\n",
    "predictions = classifier.predict(example_counts)\n",
    "predictions"
   ]
  },
  {
   "cell_type": "code",
   "execution_count": 24,
   "metadata": {},
   "outputs": [
    {
     "data": {
      "text/plain": [
       "array(['spam', 'ham'], dtype='<U4')"
      ]
     },
     "execution_count": 24,
     "metadata": {},
     "output_type": "execute_result"
    }
   ],
   "source": [
    "examples = ['Free Absolutly Free','hey its urgent to inform you ']\n",
    "example_counts = vectorizer.transform(examples)\n",
    "predictions = classifier.predict(example_counts)\n",
    "predictions"
   ]
  },
  {
   "cell_type": "code",
   "execution_count": 26,
   "metadata": {},
   "outputs": [
    {
     "data": {
      "text/plain": [
       "array(['ham', 'ham', 'ham'], dtype='<U4')"
      ]
     },
     "execution_count": 26,
     "metadata": {},
     "output_type": "execute_result"
    }
   ],
   "source": [
    "e = [ 'can we go for dinner today', 'free join free PayBox Get rs100 back','try our P&G products free of cose']\n",
    "ex = vectorizer.transform(e)\n",
    "p = classifier.predict(ex)\n",
    "p"
   ]
  },
  {
   "cell_type": "code",
   "execution_count": null,
   "metadata": {},
   "outputs": [],
   "source": []
  }
 ],
 "metadata": {
  "kernelspec": {
   "display_name": "Python 3",
   "language": "python",
   "name": "python3"
  },
  "language_info": {
   "codemirror_mode": {
    "name": "ipython",
    "version": 3
   },
   "file_extension": ".py",
   "mimetype": "text/x-python",
   "name": "python",
   "nbconvert_exporter": "python",
   "pygments_lexer": "ipython3",
   "version": "3.6.5"
  }
 },
 "nbformat": 4,
 "nbformat_minor": 2
}
